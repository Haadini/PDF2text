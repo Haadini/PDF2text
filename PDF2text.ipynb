{
 "cells": [
  {
   "cell_type": "code",
   "execution_count": null,
   "metadata": {
    "collapsed": true
   },
   "outputs": [],
   "source": [
    "!apt-get install -y poppler-utils\n",
    "!apt-get install -y libpoppler-cpp-dev\n",
    "!apt-get install -y tesseract-ocr\n",
    "!apt-get install -y libtesseract-dev\n",
    "!apt-get install -y tesseract-ocr-fas"
   ]
  },
  {
   "cell_type": "code",
   "execution_count": null,
   "outputs": [],
   "source": [
    "!pip install -q tqdm\n",
    "!pip install -q pdf2image\n",
    "!pip install -q pytesseract\n",
    "!pip install -q Pillow\n",
    "!pip install -q python-docx\n",
    "!pip install PyPDF2\n",
    "!pip install pdftotext"
   ],
   "metadata": {
    "collapsed": false,
    "pycharm": {
     "name": "#%%\n"
    }
   }
  },
  {
   "cell_type": "code",
   "execution_count": null,
   "outputs": [],
   "source": [
    "from tqdm import tqdm\n",
    "from pdf2image import convert_from_path\n",
    "import pytesseract\n",
    "from PIL import Image\n",
    "from docx import Document\n",
    "from docx.enum.text import WD_ALIGN_PARAGRAPH\n",
    "import re\n",
    "import os\n",
    "import tempfile\n",
    "from PyPDF2 import PdfReader, PdfWriter"
   ],
   "metadata": {
    "collapsed": false,
    "pycharm": {
     "name": "#%%\n"
    }
   }
  },
  {
   "cell_type": "code",
   "execution_count": null,
   "outputs": [],
   "source": [
    "pdf = PdfReader('/content/drive/MyDrive/total.pdf')\n",
    "for page in range(len(pdf.pages)):\n",
    "    #Split pdf\n",
    "    pdf_writer = PdfWriter()\n",
    "    pdf_writer.add_page(pdf.pages[page])\n",
    "\n",
    "    output_filename = '{}_page_{}.pdf'.format('part', page+1)\n",
    "\n",
    "    with open(output_filename, 'wb') as out:\n",
    "        pdf_writer.write(out)\n",
    "\n",
    "    print('Created: {}'.format(output_filename))"
   ],
   "metadata": {
    "collapsed": false,
    "pycharm": {
     "name": "#%%\n"
    }
   }
  },
  {
   "cell_type": "code",
   "execution_count": null,
   "outputs": [],
   "source": [
    "pytesseract.pytesseract.tesseract_cmd = '/usr/bin/tesseract'\n",
    "\n",
    "def remove_non_xml_chars(text):\n",
    "    \"\"\"\n",
    "    Remove non-XML-compatible characters from the text.\n",
    "    \"\"\"\n",
    "    return re.sub(r'[\\x00-\\x08\\x0b-\\x0c\\x0e-\\x1f\\x7f-\\xff]', '', text)\n",
    "def pdf_to_word(pdf_path, output_dir, lang='fas', **kwargs):\n",
    "\n",
    "    pdf_name = pdf_path.split('/')[-1].split('.')[0]\n",
    "    pages = convert_from_path(pdf_path, **kwargs)\n",
    "    texts = []\n",
    "\n",
    "    print(f'PDF is preparing to convert into document [#{len(pages)} pages]')\n",
    "    for i, page in tqdm(enumerate(pages), position=0):\n",
    "\n",
    "        with tempfile.TemporaryDirectory() as img_dir:\n",
    "            img_name = f'{pdf_name}-{i+1}.jpg'\n",
    "            img_path = os.path.join(img_dir, img_name)\n",
    "\n",
    "            page.save(img_path, 'JPEG')\n",
    "            text = pytesseract.image_to_string(Image.open(img_path), lang=lang)\n",
    "            cleaned_text = remove_non_xml_chars(text)\n",
    "            texts.append(cleaned_text)\n",
    "\n",
    "    document = Document()\n",
    "    style_normal = document.styles['Normal']\n",
    "    font = style_normal.font\n",
    "    font.name = 'Arial'\n",
    "    font.rtl = True\n",
    "\n",
    "    style_h1 = document.styles['Heading 1']\n",
    "    font = style_h1.font\n",
    "    font.name = 'Arial'\n",
    "    font.rtl = True\n",
    "\n",
    "    for i, text in tqdm(enumerate(texts), position=0):\n",
    "        heading = document.add_heading(f'صفحه: {i+1}', level=1)\n",
    "        heading.alignment = WD_ALIGN_PARAGRAPH.RIGHT\n",
    "        heading.style = document.styles['Heading 1']\n",
    "\n",
    "        paragraph = document.add_paragraph(text.encode('utf-8').decode('utf-8'))\n",
    "        paragraph.alignment = WD_ALIGN_PARAGRAPH.RIGHT\n",
    "        paragraph.style = document.styles['Normal']\n",
    "\n",
    "    output_path = os.path.join(output_dir, f'{pdf_name}.docx')\n",
    "    document.save(output_path)\n",
    "    print(f'Done! Your document can be find here \"{output_path}\"')"
   ],
   "metadata": {
    "collapsed": false,
    "pycharm": {
     "name": "#%%\n"
    }
   }
  },
  {
   "cell_type": "code",
   "execution_count": null,
   "outputs": [],
   "source": [
    "pdf_to_word('/content/part_page_105.pdf', '/content/drive/MyDrive/')"
   ],
   "metadata": {
    "collapsed": false,
    "pycharm": {
     "name": "#%%\n"
    }
   }
  }
 ],
 "metadata": {
  "kernelspec": {
   "display_name": "Python 3",
   "language": "python",
   "name": "python3"
  },
  "language_info": {
   "codemirror_mode": {
    "name": "ipython",
    "version": 2
   },
   "file_extension": ".py",
   "mimetype": "text/x-python",
   "name": "python",
   "nbconvert_exporter": "python",
   "pygments_lexer": "ipython2",
   "version": "2.7.6"
  }
 },
 "nbformat": 4,
 "nbformat_minor": 0
}